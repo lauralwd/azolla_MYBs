{
 "cells": [
  {
   "cell_type": "markdown",
   "metadata": {},
   "source": [
    "# Aim\n",
    "Repeat earlier analyses like in step4 but:\n",
    "* without ARP clade\n",
    "* without spuriouos CDC5 sequence\n",
    "\n",
    "+ Add arabidopsis mybs to annotate their subfamily as in J&R\n",
    "+ Annotate the tree with RNA seq data for Azolla filiculoides\n",
    "\n",
    "All sequences are linear already, so I can start composing the fasta file and aligning right away."
   ]
  },
  {
   "cell_type": "code",
   "execution_count": 1,
   "metadata": {},
   "outputs": [],
   "source": [
    "cat data/CDC5-outgroup_sequences_linear.fasta \\\n",
    "    data/I_sequences_linear.fasta    \\\n",
    "    data/II_sequences_linear.fasta   \\\n",
    "    data/III_sequences_linear.fasta  \\\n",
    "    data/IV_sequences_linear.fasta   \\\n",
    "    data/V_sequences_linear.fasta    \\\n",
    "    data/VI_sequences_linear.fasta   \\\n",
    "    data/VII_sequences_linear.fasta  \\\n",
    "    data/VIII_sequences_linear.fasta \\\n",
    "    data/Azfi-mybs-subfamVI-suspects_linear.fasta \\\n",
    "    data/R1R2R3_sequences_linear.fasta \\\n",
    "    data/arabidopsis-myb_sequences.fasta \\\n",
    "    > data/combi-I-to-VIII-Azfi-Arabidopsis_sequences_linear.fasta\n",
    "    "
   ]
  },
  {
   "cell_type": "code",
   "execution_count": 2,
   "metadata": {},
   "outputs": [],
   "source": [
    "inseq=combi-I-to-VIII-Azfi-Arabidopsis_sequences_linear"
   ]
  },
  {
   "cell_type": "code",
   "execution_count": 3,
   "metadata": {},
   "outputs": [
    {
     "name": "stdout",
     "output_type": "stream",
     "text": [
      "(phylogenetics) (phylogenetics) aligning combi-I-to-VIII-Azfi-Arabidopsis_sequences_linear\n",
      "(phylogenetics) "
     ]
    }
   ],
   "source": [
    "conda activate phylogenetics\n",
    "if    [ ! -d ./data/alignments_raw/ ]\n",
    "then  mkdir  ./data/alignments_raw\n",
    "fi\n",
    "for   i in data/combi*sequences_linear.fasta\n",
    "do    if    [ ! -f \"./data/alignments_raw/$inseq\"_aligned-mafft-einsi.fasta ]\n",
    "      then  echo \"aligning $inseq\"\n",
    "            einsi --thread $(nproc) data/$inseq.fasta > ./data/alignments_raw/\"$inseq\"_aligned-mafft-einsi.fasta \\\n",
    "                                                      2> ./data/alignments_raw/\"$inseq\"_aligned-mafft-einsi.log\n",
    "      fi\n",
    "done\n",
    "conda deactivate"
   ]
  },
  {
   "cell_type": "code",
   "execution_count": 4,
   "metadata": {},
   "outputs": [
    {
     "name": "stdout",
     "output_type": "stream",
     "text": [
      "(jalview) (jalview) "
     ]
    }
   ],
   "source": [
    "conda activate jalview\n",
    "for   i in data/alignments_raw/*.fasta\n",
    "do    prefix=$(echo $i | sed 's/\\.fasta//')\n",
    "      if    [ ! -f $prefix.png ]\n",
    "      then  jalview -nodisplay \\\n",
    "                    -open $prefix.fasta \\\n",
    "                    -colour CLUSTAL \\\n",
    "                    -png  $prefix.png > /dev/null 2> /dev/null\n",
    "      fi\n",
    "done\n",
    "conda deactivate"
   ]
  },
  {
   "cell_type": "markdown",
   "metadata": {},
   "source": [
    "The linsi alignment looks like this:\n",
    "![](data/alignments_raw/combi-I-to-VIII-Azfi-Arabidopsis_sequences_linear_aligned-mafft-einsi.png)"
   ]
  }
 ],
 "metadata": {
  "kernelspec": {
   "display_name": "Bash",
   "language": "bash",
   "name": "bash"
  },
  "language_info": {
   "codemirror_mode": "shell",
   "file_extension": ".sh",
   "mimetype": "text/x-sh",
   "name": "bash"
  }
 },
 "nbformat": 4,
 "nbformat_minor": 4
}
