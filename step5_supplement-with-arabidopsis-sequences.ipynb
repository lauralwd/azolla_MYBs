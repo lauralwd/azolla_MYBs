{
 "cells": [
  {
   "cell_type": "markdown",
   "metadata": {},
   "source": [
    "# Aim\n",
    "Repeat earlier analyses like in step4 but:\n",
    "* without ARP clade\n",
    "* without spuriouos CDC5 sequence\n",
    "\n",
    "+ Add arabidopsis mybs to annotate their subfamily as in J&R\n",
    "+ Annotate the tree with RNA seq data for Azolla filiculoides\n",
    "\n",
    "All sequences are linear already, so I can start composing the fasta file and aligning right away."
   ]
  },
  {
   "cell_type": "code",
   "execution_count": 1,
   "metadata": {},
   "outputs": [],
   "source": [
    "cat data/CDC5-outgroup_sequences_linear.fasta \\\n",
    "    data/I_sequences_linear.fasta    \\\n",
    "    data/II_sequences_linear.fasta   \\\n",
    "    data/III_sequences_linear.fasta  \\\n",
    "    data/IV_sequences_linear.fasta   \\\n",
    "    data/V_sequences_linear.fasta    \\\n",
    "    data/VI_sequences_linear.fasta   \\\n",
    "    data/VII_sequences_linear.fasta  \\\n",
    "    data/VIII_sequences_linear.fasta \\\n",
    "    data/Azfi-mybs-subfamVI-suspects_linear.fasta \\\n",
    "    data/R1R2R3_sequences_linear.fasta \\\n",
    "    data/arabidopsis-myb_sequences.fasta \\\n",
    "    > data/combi-I-to-VIII-Azfi-Arabidopsis_sequences_linear.fasta\n",
    "    "
   ]
  },
  {
   "cell_type": "code",
   "execution_count": 2,
   "metadata": {},
   "outputs": [],
   "source": [
    "inseq=combi-I-to-VIII-Azfi-Arabidopsis_sequences_linear"
   ]
  }
 ],
 "metadata": {
  "kernelspec": {
   "display_name": "Bash",
   "language": "bash",
   "name": "bash"
  },
  "language_info": {
   "codemirror_mode": "shell",
   "file_extension": ".sh",
   "mimetype": "text/x-sh",
   "name": "bash"
  }
 },
 "nbformat": 4,
 "nbformat_minor": 4
}
