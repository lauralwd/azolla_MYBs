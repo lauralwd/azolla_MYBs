{
 "cells": [
  {
   "cell_type": "markdown",
   "metadata": {},
   "source": [
    "# Aim\n",
    "Repeat earlier analyses like in step4 but:\n",
    "* without ARP clade\n",
    "* without spuriouos CDC5 sequence\n",
    "\n",
    "+ Add arabidopsis mybs to annotate their subfamily as in J&R\n",
    "+ Annotate the tree with RNA seq data for Azolla filiculoides"
   ]
  }
 ],
 "metadata": {
  "kernelspec": {
   "display_name": "Bash",
   "language": "bash",
   "name": "bash"
  },
  "language_info": {
   "codemirror_mode": "shell",
   "file_extension": ".sh",
   "mimetype": "text/x-sh",
   "name": "bash"
  }
 },
 "nbformat": 4,
 "nbformat_minor": 4
}
