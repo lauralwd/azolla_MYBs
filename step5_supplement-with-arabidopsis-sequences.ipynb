{
 "cells": [
  {
   "cell_type": "markdown",
   "metadata": {},
   "source": [
    "# Aim\n",
    "Repeat earlier analyses like in step4 but:\n",
    "* without ARP clade\n",
    "* without spuriouos CDC5 sequence\n",
    "\n",
    "+ Add arabidopsis mybs to annotate their subfamily as in J&R\n",
    "+ Annotate the tree with RNA seq data for Azolla filiculoides\n",
    "\n",
    "All sequences are linear already, so I can start composing the fasta file and aligning right away."
   ]
  },
  {
   "cell_type": "code",
   "execution_count": 1,
   "metadata": {},
   "outputs": [],
   "source": [
    "cat data/CDC5-outgroup_sequences_linear.fasta \\\n",
    "    data/I_sequences_linear.fasta    \\\n",
    "    data/II_sequences_linear.fasta   \\\n",
    "    data/III_sequences_linear.fasta  \\\n",
    "    data/IV_sequences_linear.fasta   \\\n",
    "    data/V_sequences_linear.fasta    \\\n",
    "    data/VI_sequences_linear.fasta   \\\n",
    "    data/VII_sequences_linear.fasta  \\\n",
    "    data/VIII_sequences_linear.fasta \\\n",
    "    data/Azfi-mybs-subfamVI-suspects_linear.fasta \\\n",
    "    data/R1R2R3_sequences_linear.fasta \\\n",
    "    data/arabidopsis-myb_sequences.fasta \\\n",
    "    > data/combi-I-to-VIII-Azfi-Arabidopsis_sequences_linear.fasta\n",
    "    "
   ]
  },
  {
   "cell_type": "code",
   "execution_count": 2,
   "metadata": {},
   "outputs": [],
   "source": [
    "inseq=combi-I-to-VIII-Azfi-Arabidopsis_sequences_linear"
   ]
  },
  {
   "cell_type": "code",
   "execution_count": 3,
   "metadata": {},
   "outputs": [
    {
     "name": "stdout",
     "output_type": "stream",
     "text": [
      "(phylogenetics) (phylogenetics) aligning combi-I-to-VIII-Azfi-Arabidopsis_sequences_linear\n",
      "(phylogenetics) "
     ]
    }
   ],
   "source": [
    "conda activate phylogenetics\n",
    "if    [ ! -d ./data/alignments_raw/ ]\n",
    "then  mkdir  ./data/alignments_raw\n",
    "fi\n",
    "for   i in data/combi*sequences_linear.fasta\n",
    "do    if    [ ! -f \"./data/alignments_raw/$inseq\"_aligned-mafft-einsi.fasta ]\n",
    "      then  echo \"aligning $inseq\"\n",
    "            einsi --thread $(nproc) data/$inseq.fasta > ./data/alignments_raw/\"$inseq\"_aligned-mafft-einsi.fasta \\\n",
    "                                                      2> ./data/alignments_raw/\"$inseq\"_aligned-mafft-einsi.log\n",
    "      fi\n",
    "done\n",
    "conda deactivate"
   ]
  },
  {
   "cell_type": "code",
   "execution_count": 4,
   "metadata": {},
   "outputs": [
    {
     "name": "stdout",
     "output_type": "stream",
     "text": [
      "(jalview) (jalview) "
     ]
    }
   ],
   "source": [
    "conda activate jalview\n",
    "for   i in data/alignments_raw/*.fasta\n",
    "do    prefix=$(echo $i | sed 's/\\.fasta//')\n",
    "      if    [ ! -f $prefix.png ]\n",
    "      then  jalview -nodisplay \\\n",
    "                    -open $prefix.fasta \\\n",
    "                    -colour CLUSTAL \\\n",
    "                    -png  $prefix.png > /dev/null 2> /dev/null\n",
    "      fi\n",
    "done\n",
    "conda deactivate"
   ]
  },
  {
   "cell_type": "markdown",
   "metadata": {},
   "source": [
    "The linsi alignment looks like this:\n",
    "![](data/alignments_raw/combi-I-to-VIII-Azfi-Arabidopsis_sequences_linear_aligned-mafft-einsi.png)"
   ]
  },
  {
   "cell_type": "markdown",
   "metadata": {},
   "source": [
    "That looks quite a bit more sparse than the einsi alignments I have seen before, likely as a consequence of adding all these recent arabidopsis sequences."
   ]
  },
  {
   "cell_type": "code",
   "execution_count": 15,
   "metadata": {},
   "outputs": [
    {
     "name": "stdout",
     "output_type": "stream",
     "text": [
      "(phylogenetics) (phylogenetics) (phylogenetics) (phylogenetics) (phylogenetics) (phylogenetics) trimming alignment data/alignments_raw/combi-I-to-VIII-Azfi-Arabidopsis_sequences_linear_aligned-mafft-einsi.fasta\n",
      "[1] 935229\n",
      "(phylogenetics) [1]+  Done                    trimal -in $a -out data/alignments_trimmed/\"$inseq\"_\"$appendix\"_\"$trimappendix\".fasta -gt .5 -htmlout data/alignments_trimmed/\"$inseq\"_\"$appendix\"_\"$trimappendix\".html\n",
      "(phylogenetics) "
     ]
    }
   ],
   "source": [
    "conda activate phylogenetics\n",
    "if    [ ! -d data/alignments_trimmed ]\n",
    "then  mkdir  data/alignments_trimmed \n",
    "fi\n",
    "\n",
    "# define appendix only once here:\n",
    "trimappendix='trim-gt5'\n",
    "\n",
    "for a in \"data/alignments_raw/$inseq\"_aligned*.fasta\n",
    "do  appendix=$(echo $a | cut -d '/' -f 3- | sed \"s/$inseq\\_//\" | sed \"s/.fasta//\")\n",
    "    if    [ ! -f data/alignments_trimmed/\"$inseq\"_\"$appendix\"_\"$trimappendix\".fasta ]\n",
    "    then  echo \"trimming alignment $a\"\n",
    "          sed -i 's/ /_/g' $a\n",
    "          trimal -in $a   \\\n",
    "                 -out data/alignments_trimmed/\"$inseq\"_\"$appendix\"_\"$trimappendix\".fasta \\\n",
    "                 -gt .5 \\\n",
    "                 -htmlout data/alignments_trimmed/\"$inseq\"_\"$appendix\"_\"$trimappendix\".html &\n",
    "    fi\n",
    "done\n",
    "wait\n",
    "conda deactivate"
   ]
  },
  {
   "cell_type": "code",
   "execution_count": 16,
   "metadata": {
    "scrolled": true
   },
   "outputs": [
    {
     "name": "stdout",
     "output_type": "stream",
     "text": [
      "(jalview) [1] 935352\n",
      "(jalview) [1]+  Done                    jalview -nodisplay -open $prefix.fasta -colour CLUSTAL -png $prefix.png > /dev/null 2> /dev/null\n",
      "(jalview) "
     ]
    }
   ],
   "source": [
    "conda activate jalview\n",
    "for   i in data/alignments_trimmed/*.fasta\n",
    "do    prefix=$(echo $i | sed 's/\\.fasta//')\n",
    "      if    [ ! -f $prefix.png ]\n",
    "      then  jalview -nodisplay \\\n",
    "                    -open $prefix.fasta \\\n",
    "                    -colour CLUSTAL \\\n",
    "                    -png  $prefix.png > /dev/null 2> /dev/null &\n",
    "      fi\n",
    "done\n",
    "wait\n",
    "conda deactivate"
   ]
  },
  {
   "cell_type": "markdown",
   "metadata": {},
   "source": [
    "### 60%\n",
    "![einsi 6 trimmed](data/alignments_trimmed/combi-I-to-VIII-Azfi-Arabidopsis_sequences_linear_aligned-mafft-einsi_trim-gt6.png)"
   ]
  },
  {
   "cell_type": "markdown",
   "metadata": {},
   "source": [
    "### 50%\n",
    "![50](data/alignments_trimmed/combi-I-to-VIII-Azfi-Arabidopsis_sequences_linear_aligned-mafft-einsi_trim-gt5.png)"
   ]
  },
  {
   "cell_type": "markdown",
   "metadata": {},
   "source": [
    "### 40%\n",
    "![](data/alignments_trimmed/combi-I-to-VIII-Azfi-Arabidopsis_sequences_linear_aligned-mafft-einsi_trim-gt4.png)"
   ]
  },
  {
   "cell_type": "markdown",
   "metadata": {},
   "source": [
    "Based on past experience, "
   ]
  }
 ],
 "metadata": {
  "kernelspec": {
   "display_name": "Bash",
   "language": "bash",
   "name": "bash"
  },
  "language_info": {
   "codemirror_mode": "shell",
   "file_extension": ".sh",
   "mimetype": "text/x-sh",
   "name": "bash"
  }
 },
 "nbformat": 4,
 "nbformat_minor": 4
}
