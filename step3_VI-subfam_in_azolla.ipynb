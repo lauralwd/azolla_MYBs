{
 "cells": [
  {
   "cell_type": "markdown",
   "metadata": {},
   "source": [
    "# outline\n",
    "\n",
    "goal: In this notebook I will try to find R2R3 MYBs from the VI subfamily as described in R&J in the Azolla annotation and genome (if the former is unsuccessfull).\n",
    "\n",
    "I have two resources to search with, the Salivina sequences termed VI by R&J, and the whole VI subfamily I extracted earlier via the R&J paper.\n",
    "\n",
    "Alternativelly, I may use the pfam or superfamily hmm models to find these genes, but that won't be as specific as I would like it to be.\n",
    "\n",
    "My resource to search in, is the Azolla filiculoides genome 1.2 and annotation v1.1 from fernbase.org"
   ]
  },
  {
   "cell_type": "markdown",
   "metadata": {},
   "source": [
    "# Plan 1\n",
    "First, I'll make an HMM of all VI sequences I have, and hmmsearch the azolla annotation."
   ]
  },
  {
   "cell_type": "code",
   "execution_count": 1,
   "metadata": {},
   "outputs": [],
   "source": [
    "mkdir data/genome"
   ]
  },
  {
   "cell_type": "code",
   "execution_count": 2,
   "metadata": {},
   "outputs": [],
   "source": [
    "wget -o ./data/genome/Azolla_filiculoides.protein.highconfidence_v1.1.fasta \\\n",
    "         ftp://ftp.fernbase.org/Azolla_filiculoides/Azolla_asm_v1.1/Azolla_filiculoides.protein.highconfidence_v1.1.fasta"
   ]
  },
  {
   "cell_type": "code",
   "execution_count": 3,
   "metadata": {},
   "outputs": [
    {
     "name": "stdout",
     "output_type": "stream",
     "text": [
      "\u001b[01;34mdata/genome\u001b[00m\n",
      "└── Azolla_filiculoides.protein.highconfidence_v1.1.fasta\n",
      "\n",
      "0 directories, 1 file\n"
     ]
    }
   ],
   "source": [
    "tree data/genome"
   ]
  },
  {
   "cell_type": "code",
   "execution_count": 4,
   "metadata": {
    "scrolled": true
   },
   "outputs": [
    {
     "name": "stdout",
     "output_type": "stream",
     "text": [
      ">g8575.t1 length:1504 (mRNA) (CHBRA15g00250)  (myb-related protein 305-like)\n",
      "MDSGGGAVVDADDSALPAQHQGQSHPQAHGQKVAAQQQSVGGGKGGGAGPAVCKSESDAAAAVGGAHGSSPLSLAGDEASAAAAGGKGVSGGAPAVGPKRPLKRGVWLPEEDEILKGYVANQGPKNWSSIETMGLLARSGKSCRLRWMNHLRPDLNRRSTKFTPEEEAIVVTKQKLHGNKWAQIAKSLSGRTDNDVKNFWNMRMKKLAKLARLEKQRQRQLLISQGSPIAMAAAAMGLPPGARMLASPGDVVVSFNPRTIAEAAAQQRLMVSSSAVPAHHHRLQNFCNASAGLAGNGGLTGMGTAGASIHALACGNGGGGAGSGSLGDIFASPSPKGYVHGSAMGDLLHVDPDCIMSTSSILNHHHHHPHHLSPHHHHIHHSLHGLSPTNGTCGTNGGTAGVSPTSAAAAAAAAAAAAALMSGCGDGRSGALSAALQASGKAIGGSGGVGDCSIANHHDPCGRLMTVGGALEHHHQHHHHHHQNQLLMQARGCGLLLHSGGGLHAVLNRWGDLKGQSLGGVGGRGSSDGDSVVPISAGGSPSFMQACGLATTPSAQCLMTPCTRPGSVLTGVGRTSPTCMPVHLSEMLKVHNSPVSLVCDMTTGKPTMDGLTKALGFAEPQSADVGDSGIGSGGVCLDGGVTTDCSTDPNMSSSCNSTESSGTHQPQYMMTGGSTGMAASGVPSCAAPLNGQGAMAPSVARAAAVTCLDGDVESPTVFRNNNMPRSTSAGTATVPAGAINLDVERNLVSNSNAFSTADRALEAVTNGKAAMSGGGNGSGASSSSPSHRHQQQQSVGCTASSKDLLDNLGIGVEGAVRSAVNGANIAAAIGQSLMPLDVCFGRAGVDVDAGLATMSESQATTMSAPPRMSPRMSSSNVTLRGQTTPVLNRSPSFTFSADMAATTPRSSSIAAGGTGTTLMVGGEKRQRAPGTVSDRVPTSRQQRSQADDNAFSSVAEHGNTGPSVVAMEATAAIDNLSPRERRVPLLSVAAQSRQKQEQLEQQQRQQQQQQEQQQQQQQEQQLQRGEFDRVPRCLPASPDFGTTTMRQFGGLASSGMGCAAATMAIMMAGRPDQALLMMAGGPTTGPELASLNAVVPSRQDFQAAPQEIGENRTDVQVDDEEEEEEEAEEEDDEEETAEVIDSKAIMDWDFGGIGVVPSGTRAWPGSTGAGMSGFLSGPQPVTLPSHDPRQQQQQHQHQHQQQQQQQQQQHHEQVRGLIARDARHVLLGQLEGDRDDEEMVSRVTCADLGCQPQSRSGHRRSQPQVRISCPNSDPDQDTAASMGSDSDPGFSDGMQVEPSKAMISGLRVGGVGSRYMDAAYGSTHPCASSAAVETSSPLTQTSRLQMRMPTTVGIHTQPTNGRRLAVGFSGHAHPQQEQQQHHYRFCSSSLLQTNGMRDATPPLGEAAVPPLRKRVETGDVCGVAGASALRYGGPPSAMTSVSHADTFRKGNDCLESNRLASVPVSAVLSGGDGSLSWAQQYNDLDTVFLDSEADSIERMLDSC*\n",
      ">BBG43567 LC221833 MYB transcription factor, partial [Chara australis]\n",
      "pkrplkrgvwlpeedeilkgyvanqgpknwssietmgllarsgkscrlrwmnhlrpdlnrrstkftpeeeaivvskqkdcgnkwaqiakflsgrtdndvknfwnmrmkklaklarlekqrqrqllisqgspiamaaaamglppgtrmlaspgdv\n",
      ">BBG43566 LC221832 Chara leptospora mRNA for MYB transcription factor, partial cds,strain: TAN136.\n",
      "PKRPLKRGVWLPEEDEILKGYVANQGPKNWSSIETMGLLARSGKSCRLRWMNHLRPDLNRRSTKFTPEEEAIVVAKQTEHGNRWAQIAKCLAGRTDNDVKNFWNMRMKKLAKLARLEKQRQRQL\n",
      ">Mapoly0019s0071.1\n",
      "MKTIQNGDEVLRKGPWMPEEDEILVEYVRQFGARDWSSIRSKGLLPRTGKSCRLRWVNKLKPDLKRSGCKFSPEEEKLVVEMQAKLGNKWAKIASCLPGRTDNDVKNFWSTRQKRILRALQRPKMPSGSTDAAADTSDLRKDPSITDYGAFQVHSPSGTGLVPSGFVTPFMFEDDNAFREPPGHLRLRHSVQPFNSLEVDDVLSLKLQDMVAGDSHFTDSDFSQCGRVLDDPRHGSVMYQHSPRMMITPRNARSVKRRPRSRRDARSCFEHHSGTDGGQDSVQMLPEIGLPLIQGNSRDFGVPLSTEQQNNNYLDFLLQTEASSMHSSQMFSPELPSFLTNSQQWEKLPMLYSNDPSIQEPDVKDSDSCSPDSVISGFAADVFDSLEPLCPAAPEWWVARLS\n",
      ">XM_024688730.1 >XP_024544498.1\n",
      "MSIKTVQVGDEVLRKGPWMPEEDEILVEYVRQYGPRDWSSIRSKGLLPRTGKSCRLRWVNKLKPDLKRSGCKFSPEEEKLVVEMQSKLGNKWAKIASCLPGRTDNDVKNFWSTRQKRLLRALQRPKTPSGKGDCSSLDLHDMNKEPLNEFSAFQSFGPPLFFGNEEEDNTFKGQSDEWKPSRQSLQAFGDLEDMEDVLTAKLPDIGPPDYPFPDTDFSNSNAAAVAAAAAAAATTGTPPAQHQHQQDQQQQQQGGATFCCSDLSGFLAGSPPQWEKLPLLCLDPDACIKEEGDSISPDSVLSGFPADVFDSLAPRFGPAKFTTRAARTHKAATKFFLLAMLQHGFGIWIYAARLDVPLVPFSRRDAHLLVVSGYAIFMKARFFSRR\n"
     ]
    }
   ],
   "source": [
    "head data/VI_sequences_linear.fasta"
   ]
  },
  {
   "cell_type": "code",
   "execution_count": 6,
   "metadata": {},
   "outputs": [
    {
     "name": "stdout",
     "output_type": "stream",
     "text": [
      "# hmmbuild :: profile HMM construction from multiple sequence alignments\n",
      "# HMMER 3.3 (Nov 2019); http://hmmer.org/\n",
      "# Copyright (C) 2019 Howard Hughes Medical Institute.\n",
      "# Freely distributed under the BSD open source license.\n",
      "# - - - - - - - - - - - - - - - - - - - - - - - - - - - - - - - - - - - -\n",
      "Usage: hmmbuild [-options] <hmmfile_out> <msafile>\n",
      "\n",
      "Basic options:\n",
      "  -h     : show brief help on version and usage\n",
      "  -n <s> : name the HMM <s>\n",
      "  -o <f> : direct summary output to file <f>, not stdout\n",
      "  -O <f> : resave annotated, possibly modified MSA to file <f>\n",
      "\n",
      "Options for selecting alphabet rather than guessing it:\n",
      "  --amino : input alignment is protein sequence data\n",
      "  --dna   : input alignment is DNA sequence data\n",
      "  --rna   : input alignment is RNA sequence data\n",
      "\n",
      "Alternative model construction strategies:\n",
      "  --fast           : assign cols w/ >= symfrac residues as consensus  [default]\n",
      "  --hand           : manual construction (requires reference annotation)\n",
      "  --symfrac <x>    : sets sym fraction controlling --fast construction  [0.5]\n",
      "  --fragthresh <x> : if L <= x*alen, tag sequence as a fragment  [0.5]\n",
      "\n",
      "Alternative relative sequence weighting strategies:\n",
      "  --wpb     : Henikoff position-based weights  [default]\n",
      "  --wgsc    : Gerstein/Sonnhammer/Chothia tree weights\n",
      "  --wblosum : Henikoff simple filter weights\n",
      "  --wnone   : don't do any relative weighting; set all to 1\n",
      "  --wgiven  : use weights as given in MSA file\n",
      "  --wid <x> : for --wblosum: set identity cutoff  [0.62]  (0<=x<=1)\n",
      "\n",
      "Alternative effective sequence weighting strategies:\n",
      "  --eent       : adjust eff seq # to achieve relative entropy target  [default]\n",
      "  --eclust     : eff seq # is # of single linkage clusters\n",
      "  --enone      : no effective seq # weighting: just use nseq\n",
      "  --eset <x>   : set eff seq # for all models to <x>\n",
      "  --ere <x>    : for --eent: set minimum rel entropy/position to <x>\n",
      "  --esigma <x> : for --eent: set sigma param to <x>  [45.0]\n",
      "  --eid <x>    : for --eclust: set fractional identity cutoff to <x>  [0.62]\n",
      "\n",
      "Alternative prior strategies:\n",
      "  --pnone    : don't use any prior; parameters are frequencies\n",
      "  --plaplace : use a Laplace +1 prior\n",
      "\n",
      "Handling single sequence inputs:\n",
      "  --singlemx    : use substitution score matrix for single-sequence inputs\n",
      "  --mx <s>      : substitution score matrix (built-in matrices, with --singlemx)\n",
      "  --mxfile <f>  : read substitution score matrix from file <f> (with --singlemx)\n",
      "  --popen <x>   : force gap open prob. (w/ --singlemx, aa default 0.02, nt 0.031)\n",
      "  --pextend <x> : force gap extend prob. (w/ --singlemx, aa default 0.4, nt 0.75)\n",
      "\n",
      "Control of E-value calibration:\n",
      "  --EmL <n> : length of sequences for MSV Gumbel mu fit  [200]  (n>0)\n",
      "  --EmN <n> : number of sequences for MSV Gumbel mu fit  [200]  (n>0)\n",
      "  --EvL <n> : length of sequences for Viterbi Gumbel mu fit  [200]  (n>0)\n",
      "  --EvN <n> : number of sequences for Viterbi Gumbel mu fit  [200]  (n>0)\n",
      "  --EfL <n> : length of sequences for Forward exp tail tau fit  [100]  (n>0)\n",
      "  --EfN <n> : number of sequences for Forward exp tail tau fit  [200]  (n>0)\n",
      "  --Eft <x> : tail mass for Forward exponential tail tau fit  [0.04]  (0<x<1)\n",
      "\n",
      "Other options:\n",
      "  --cpu <n>          : number of parallel CPU workers for multithreads  [2]\n",
      "  --stall            : arrest after start: for attaching debugger to process\n",
      "  --informat <s>     : assert input alifile is in format <s> (no autodetect)\n",
      "  --seed <n>         : set RNG seed to <n> (if 0: one-time arbitrary seed)  [42]\n",
      "  --w_beta <x>       : tail mass at which window length is determined\n",
      "  --w_length <n>     : window length \n",
      "  --maxinsertlen <n> : pretend all inserts are length <= <n>\n"
     ]
    }
   ],
   "source": [
    "hmmbuild -h"
   ]
  },
  {
   "cell_type": "code",
   "execution_count": 8,
   "metadata": {},
   "outputs": [
    {
     "name": "stdout",
     "output_type": "stream",
     "text": [
      "# hmmbuild :: profile HMM construction from multiple sequence alignments\n",
      "# HMMER 3.3 (Nov 2019); http://hmmer.org/\n",
      "# Copyright (C) 2019 Howard Hughes Medical Institute.\n",
      "# Freely distributed under the BSD open source license.\n",
      "# - - - - - - - - - - - - - - - - - - - - - - - - - - - - - - - - - - - -\n",
      "# input alignment file:             ./data/alignments_raw/VI_sequences_linear_aligned-mafft-linsi.fasta\n",
      "# output HMM file:                  ./data/VI-sequences_linear_hmm-v1.hmm\n",
      "# number of worker threads:         4\n",
      "# - - - - - - - - - - - - - - - - - - - - - - - - - - - - - - - - - - - -\n",
      "\n",
      "# idx name                  nseq  alen  mlen eff_nseq re/pos description\n",
      "#---- -------------------- ----- ----- ----- -------- ------ -----------\n",
      "1     VI_sequences_linear_aligned-mafft-linsi    11  1791   414     1.55  0.590 \n",
      "\n",
      "# CPU time: 0.26u 0.00s 00:00:00.26 Elapsed: 00:00:00.26\n"
     ]
    }
   ],
   "source": [
    "hmmbuild --cpu $(nproc) ./data/VI-sequences_linear_hmm-v1.hmm ./data/alignments_raw/VI_sequences_linear_aligned-mafft-linsi.fasta"
   ]
  }
 ],
 "metadata": {
  "kernelspec": {
   "display_name": "Bash",
   "language": "bash",
   "name": "bash"
  },
  "language_info": {
   "codemirror_mode": "shell",
   "file_extension": ".sh",
   "mimetype": "text/x-sh",
   "name": "bash"
  }
 },
 "nbformat": 4,
 "nbformat_minor": 4
}
