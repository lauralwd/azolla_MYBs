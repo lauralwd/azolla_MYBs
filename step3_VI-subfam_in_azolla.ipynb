{
 "cells": [
  {
   "cell_type": "markdown",
   "metadata": {},
   "source": [
    "# outline\n",
    "\n",
    "goal: In this notebook I will try to find R2R3 MYBs from the VI subfamily as described in R&J in the Azolla annotation and genome (if the former is unsuccessfull).\n",
    "\n",
    "I have two resources to search with, the Salivina sequences termed VI by R&J, and the whole VI subfamily I extracted earlier via the R&J paper.\n",
    "\n",
    "Alternativelly, I may use the pfam or superfamily hmm models to find these genes, but that won't be as specific as I would like it to be.\n",
    "\n",
    "My resource to search in, is the Azolla filiculoides genome 1.2 and annotation v1.1 from fernbase.org"
   ]
  },
  {
   "cell_type": "markdown",
   "metadata": {},
   "source": [
    "# Plan 1\n",
    "First, I'll make an HMM of all VI sequences I have, and hmmsearch the azolla annotation."
   ]
  },
  {
   "cell_type": "code",
   "execution_count": 1,
   "metadata": {},
   "outputs": [],
   "source": [
    "mkdir data/genome"
   ]
  },
  {
   "cell_type": "code",
   "execution_count": 18,
   "metadata": {},
   "outputs": [
    {
     "name": "stdout",
     "output_type": "stream",
     "text": [
      "--2020-07-31 14:21:41--  ftp://ftp.fernbase.org/Azolla_filiculoides/Azolla_asm_v1.1/Azolla_filiculoides.protein.highconfidence_v1.1.fasta\n",
      "           => ‘./data/genome/Azolla_filiculoides.protein.highconfidence_v1.1.fasta’\n",
      "Resolving ftp.fernbase.org (ftp.fernbase.org)... 132.236.81.244\n",
      "Connecting to ftp.fernbase.org (ftp.fernbase.org)|132.236.81.244|:21... connected.\n",
      "Logging in as anonymous ... Logged in!\n",
      "==> SYST ... done.    ==> PWD ... done.\n",
      "==> TYPE I ... done.  ==> CWD (1) /Azolla_filiculoides/Azolla_asm_v1.1 ... done.\n",
      "==> SIZE Azolla_filiculoides.protein.highconfidence_v1.1.fasta ... 9519909\n",
      "==> PASV ... done.    ==> RETR Azolla_filiculoides.protein.highconfidence_v1.1.fasta ... done.\n",
      "Length: 9519909 (9,1M) (unauthoritative)\n",
      "\n",
      "Azolla_filiculoides 100%[===================>]   9,08M  9,42MB/s    in 1,0s    \n",
      "\n",
      "2020-07-31 14:21:44 (9,42 MB/s) - ‘./data/genome/Azolla_filiculoides.protein.highconfidence_v1.1.fasta’ saved [9519909]\n",
      "\n"
     ]
    }
   ],
   "source": [
    "wget -O ./data/genome/Azolla_filiculoides.protein.highconfidence_v1.1.fasta \\\n",
    "         ftp://ftp.fernbase.org/Azolla_filiculoides/Azolla_asm_v1.1/Azolla_filiculoides.protein.highconfidence_v1.1.fasta"
   ]
  },
  {
   "cell_type": "code",
   "execution_count": 3,
   "metadata": {},
   "outputs": [
    {
     "name": "stdout",
     "output_type": "stream",
     "text": [
      "\u001b[01;34mdata/genome\u001b[00m\n",
      "└── Azolla_filiculoides.protein.highconfidence_v1.1.fasta\n",
      "\n",
      "0 directories, 1 file\n"
     ]
    }
   ],
   "source": [
    "tree data/genome"
   ]
  },
  {
   "cell_type": "code",
   "execution_count": 4,
   "metadata": {
    "scrolled": true
   },
   "outputs": [
    {
     "name": "stdout",
     "output_type": "stream",
     "text": [
      ">g8575.t1 length:1504 (mRNA) (CHBRA15g00250)  (myb-related protein 305-like)\n",
      "MDSGGGAVVDADDSALPAQHQGQSHPQAHGQKVAAQQQSVGGGKGGGAGPAVCKSESDAAAAVGGAHGSSPLSLAGDEASAAAAGGKGVSGGAPAVGPKRPLKRGVWLPEEDEILKGYVANQGPKNWSSIETMGLLARSGKSCRLRWMNHLRPDLNRRSTKFTPEEEAIVVTKQKLHGNKWAQIAKSLSGRTDNDVKNFWNMRMKKLAKLARLEKQRQRQLLISQGSPIAMAAAAMGLPPGARMLASPGDVVVSFNPRTIAEAAAQQRLMVSSSAVPAHHHRLQNFCNASAGLAGNGGLTGMGTAGASIHALACGNGGGGAGSGSLGDIFASPSPKGYVHGSAMGDLLHVDPDCIMSTSSILNHHHHHPHHLSPHHHHIHHSLHGLSPTNGTCGTNGGTAGVSPTSAAAAAAAAAAAAALMSGCGDGRSGALSAALQASGKAIGGSGGVGDCSIANHHDPCGRLMTVGGALEHHHQHHHHHHQNQLLMQARGCGLLLHSGGGLHAVLNRWGDLKGQSLGGVGGRGSSDGDSVVPISAGGSPSFMQACGLATTPSAQCLMTPCTRPGSVLTGVGRTSPTCMPVHLSEMLKVHNSPVSLVCDMTTGKPTMDGLTKALGFAEPQSADVGDSGIGSGGVCLDGGVTTDCSTDPNMSSSCNSTESSGTHQPQYMMTGGSTGMAASGVPSCAAPLNGQGAMAPSVARAAAVTCLDGDVESPTVFRNNNMPRSTSAGTATVPAGAINLDVERNLVSNSNAFSTADRALEAVTNGKAAMSGGGNGSGASSSSPSHRHQQQQSVGCTASSKDLLDNLGIGVEGAVRSAVNGANIAAAIGQSLMPLDVCFGRAGVDVDAGLATMSESQATTMSAPPRMSPRMSSSNVTLRGQTTPVLNRSPSFTFSADMAATTPRSSSIAAGGTGTTLMVGGEKRQRAPGTVSDRVPTSRQQRSQADDNAFSSVAEHGNTGPSVVAMEATAAIDNLSPRERRVPLLSVAAQSRQKQEQLEQQQRQQQQQQEQQQQQQQEQQLQRGEFDRVPRCLPASPDFGTTTMRQFGGLASSGMGCAAATMAIMMAGRPDQALLMMAGGPTTGPELASLNAVVPSRQDFQAAPQEIGENRTDVQVDDEEEEEEEAEEEDDEEETAEVIDSKAIMDWDFGGIGVVPSGTRAWPGSTGAGMSGFLSGPQPVTLPSHDPRQQQQQHQHQHQQQQQQQQQQHHEQVRGLIARDARHVLLGQLEGDRDDEEMVSRVTCADLGCQPQSRSGHRRSQPQVRISCPNSDPDQDTAASMGSDSDPGFSDGMQVEPSKAMISGLRVGGVGSRYMDAAYGSTHPCASSAAVETSSPLTQTSRLQMRMPTTVGIHTQPTNGRRLAVGFSGHAHPQQEQQQHHYRFCSSSLLQTNGMRDATPPLGEAAVPPLRKRVETGDVCGVAGASALRYGGPPSAMTSVSHADTFRKGNDCLESNRLASVPVSAVLSGGDGSLSWAQQYNDLDTVFLDSEADSIERMLDSC*\n",
      ">BBG43567 LC221833 MYB transcription factor, partial [Chara australis]\n",
      "pkrplkrgvwlpeedeilkgyvanqgpknwssietmgllarsgkscrlrwmnhlrpdlnrrstkftpeeeaivvskqkdcgnkwaqiakflsgrtdndvknfwnmrmkklaklarlekqrqrqllisqgspiamaaaamglppgtrmlaspgdv\n",
      ">BBG43566 LC221832 Chara leptospora mRNA for MYB transcription factor, partial cds,strain: TAN136.\n",
      "PKRPLKRGVWLPEEDEILKGYVANQGPKNWSSIETMGLLARSGKSCRLRWMNHLRPDLNRRSTKFTPEEEAIVVAKQTEHGNRWAQIAKCLAGRTDNDVKNFWNMRMKKLAKLARLEKQRQRQL\n",
      ">Mapoly0019s0071.1\n",
      "MKTIQNGDEVLRKGPWMPEEDEILVEYVRQFGARDWSSIRSKGLLPRTGKSCRLRWVNKLKPDLKRSGCKFSPEEEKLVVEMQAKLGNKWAKIASCLPGRTDNDVKNFWSTRQKRILRALQRPKMPSGSTDAAADTSDLRKDPSITDYGAFQVHSPSGTGLVPSGFVTPFMFEDDNAFREPPGHLRLRHSVQPFNSLEVDDVLSLKLQDMVAGDSHFTDSDFSQCGRVLDDPRHGSVMYQHSPRMMITPRNARSVKRRPRSRRDARSCFEHHSGTDGGQDSVQMLPEIGLPLIQGNSRDFGVPLSTEQQNNNYLDFLLQTEASSMHSSQMFSPELPSFLTNSQQWEKLPMLYSNDPSIQEPDVKDSDSCSPDSVISGFAADVFDSLEPLCPAAPEWWVARLS\n",
      ">XM_024688730.1 >XP_024544498.1\n",
      "MSIKTVQVGDEVLRKGPWMPEEDEILVEYVRQYGPRDWSSIRSKGLLPRTGKSCRLRWVNKLKPDLKRSGCKFSPEEEKLVVEMQSKLGNKWAKIASCLPGRTDNDVKNFWSTRQKRLLRALQRPKTPSGKGDCSSLDLHDMNKEPLNEFSAFQSFGPPLFFGNEEEDNTFKGQSDEWKPSRQSLQAFGDLEDMEDVLTAKLPDIGPPDYPFPDTDFSNSNAAAVAAAAAAAATTGTPPAQHQHQQDQQQQQQGGATFCCSDLSGFLAGSPPQWEKLPLLCLDPDACIKEEGDSISPDSVLSGFPADVFDSLAPRFGPAKFTTRAARTHKAATKFFLLAMLQHGFGIWIYAARLDVPLVPFSRRDAHLLVVSGYAIFMKARFFSRR\n"
     ]
    }
   ],
   "source": [
    "head data/VI_sequences_linear.fasta"
   ]
  },
  {
   "cell_type": "code",
   "execution_count": 6,
   "metadata": {},
   "outputs": [
    {
     "name": "stdout",
     "output_type": "stream",
     "text": [
      "# hmmbuild :: profile HMM construction from multiple sequence alignments\n",
      "# HMMER 3.3 (Nov 2019); http://hmmer.org/\n",
      "# Copyright (C) 2019 Howard Hughes Medical Institute.\n",
      "# Freely distributed under the BSD open source license.\n",
      "# - - - - - - - - - - - - - - - - - - - - - - - - - - - - - - - - - - - -\n",
      "Usage: hmmbuild [-options] <hmmfile_out> <msafile>\n",
      "\n",
      "Basic options:\n",
      "  -h     : show brief help on version and usage\n",
      "  -n <s> : name the HMM <s>\n",
      "  -o <f> : direct summary output to file <f>, not stdout\n",
      "  -O <f> : resave annotated, possibly modified MSA to file <f>\n",
      "\n",
      "Options for selecting alphabet rather than guessing it:\n",
      "  --amino : input alignment is protein sequence data\n",
      "  --dna   : input alignment is DNA sequence data\n",
      "  --rna   : input alignment is RNA sequence data\n",
      "\n",
      "Alternative model construction strategies:\n",
      "  --fast           : assign cols w/ >= symfrac residues as consensus  [default]\n",
      "  --hand           : manual construction (requires reference annotation)\n",
      "  --symfrac <x>    : sets sym fraction controlling --fast construction  [0.5]\n",
      "  --fragthresh <x> : if L <= x*alen, tag sequence as a fragment  [0.5]\n",
      "\n",
      "Alternative relative sequence weighting strategies:\n",
      "  --wpb     : Henikoff position-based weights  [default]\n",
      "  --wgsc    : Gerstein/Sonnhammer/Chothia tree weights\n",
      "  --wblosum : Henikoff simple filter weights\n",
      "  --wnone   : don't do any relative weighting; set all to 1\n",
      "  --wgiven  : use weights as given in MSA file\n",
      "  --wid <x> : for --wblosum: set identity cutoff  [0.62]  (0<=x<=1)\n",
      "\n",
      "Alternative effective sequence weighting strategies:\n",
      "  --eent       : adjust eff seq # to achieve relative entropy target  [default]\n",
      "  --eclust     : eff seq # is # of single linkage clusters\n",
      "  --enone      : no effective seq # weighting: just use nseq\n",
      "  --eset <x>   : set eff seq # for all models to <x>\n",
      "  --ere <x>    : for --eent: set minimum rel entropy/position to <x>\n",
      "  --esigma <x> : for --eent: set sigma param to <x>  [45.0]\n",
      "  --eid <x>    : for --eclust: set fractional identity cutoff to <x>  [0.62]\n",
      "\n",
      "Alternative prior strategies:\n",
      "  --pnone    : don't use any prior; parameters are frequencies\n",
      "  --plaplace : use a Laplace +1 prior\n",
      "\n",
      "Handling single sequence inputs:\n",
      "  --singlemx    : use substitution score matrix for single-sequence inputs\n",
      "  --mx <s>      : substitution score matrix (built-in matrices, with --singlemx)\n",
      "  --mxfile <f>  : read substitution score matrix from file <f> (with --singlemx)\n",
      "  --popen <x>   : force gap open prob. (w/ --singlemx, aa default 0.02, nt 0.031)\n",
      "  --pextend <x> : force gap extend prob. (w/ --singlemx, aa default 0.4, nt 0.75)\n",
      "\n",
      "Control of E-value calibration:\n",
      "  --EmL <n> : length of sequences for MSV Gumbel mu fit  [200]  (n>0)\n",
      "  --EmN <n> : number of sequences for MSV Gumbel mu fit  [200]  (n>0)\n",
      "  --EvL <n> : length of sequences for Viterbi Gumbel mu fit  [200]  (n>0)\n",
      "  --EvN <n> : number of sequences for Viterbi Gumbel mu fit  [200]  (n>0)\n",
      "  --EfL <n> : length of sequences for Forward exp tail tau fit  [100]  (n>0)\n",
      "  --EfN <n> : number of sequences for Forward exp tail tau fit  [200]  (n>0)\n",
      "  --Eft <x> : tail mass for Forward exponential tail tau fit  [0.04]  (0<x<1)\n",
      "\n",
      "Other options:\n",
      "  --cpu <n>          : number of parallel CPU workers for multithreads  [2]\n",
      "  --stall            : arrest after start: for attaching debugger to process\n",
      "  --informat <s>     : assert input alifile is in format <s> (no autodetect)\n",
      "  --seed <n>         : set RNG seed to <n> (if 0: one-time arbitrary seed)  [42]\n",
      "  --w_beta <x>       : tail mass at which window length is determined\n",
      "  --w_length <n>     : window length \n",
      "  --maxinsertlen <n> : pretend all inserts are length <= <n>\n"
     ]
    }
   ],
   "source": [
    "hmmbuild -h"
   ]
  },
  {
   "cell_type": "code",
   "execution_count": 8,
   "metadata": {},
   "outputs": [
    {
     "name": "stdout",
     "output_type": "stream",
     "text": [
      "# hmmbuild :: profile HMM construction from multiple sequence alignments\n",
      "# HMMER 3.3 (Nov 2019); http://hmmer.org/\n",
      "# Copyright (C) 2019 Howard Hughes Medical Institute.\n",
      "# Freely distributed under the BSD open source license.\n",
      "# - - - - - - - - - - - - - - - - - - - - - - - - - - - - - - - - - - - -\n",
      "# input alignment file:             ./data/alignments_raw/VI_sequences_linear_aligned-mafft-linsi.fasta\n",
      "# output HMM file:                  ./data/VI-sequences_linear_hmm-v1.hmm\n",
      "# number of worker threads:         4\n",
      "# - - - - - - - - - - - - - - - - - - - - - - - - - - - - - - - - - - - -\n",
      "\n",
      "# idx name                  nseq  alen  mlen eff_nseq re/pos description\n",
      "#---- -------------------- ----- ----- ----- -------- ------ -----------\n",
      "1     VI_sequences_linear_aligned-mafft-linsi    11  1791   414     1.55  0.590 \n",
      "\n",
      "# CPU time: 0.26u 0.00s 00:00:00.26 Elapsed: 00:00:00.26\n"
     ]
    }
   ],
   "source": [
    "hmmbuild --cpu $(nproc) ./data/VI-sequences_linear_hmm-v1.hmm ./data/alignments_raw/VI_sequences_linear_aligned-mafft-linsi.fasta"
   ]
  },
  {
   "cell_type": "code",
   "execution_count": 15,
   "metadata": {},
   "outputs": [
    {
     "name": "stdout",
     "output_type": "stream",
     "text": [
      "Working...    done.\n",
      "Pressed and indexed 1 HMMs (1 names).\n",
      "Models pressed into binary file:   data/VI-sequences_linear_hmm-v1.hmm.h3m\n",
      "SSI index for binary model file:   data/VI-sequences_linear_hmm-v1.hmm.h3i\n",
      "Profiles (MSV part) pressed into:  data/VI-sequences_linear_hmm-v1.hmm.h3f\n",
      "Profiles (remainder) pressed into: data/VI-sequences_linear_hmm-v1.hmm.h3p\n"
     ]
    }
   ],
   "source": [
    "hmmpress data/VI-sequences_linear_hmm-v1.hmm"
   ]
  },
  {
   "cell_type": "code",
   "execution_count": 1,
   "metadata": {},
   "outputs": [],
   "source": [
    "hmmscan --cpu $(nproc) \\\n",
    "        --tblout ./data/VI-sequences_linear_hmm-v1_Azfihits.tab \\\n",
    "        -o ./data/VI-sequences_linear_hmm-v1_Azfihits.log \\\n",
    "        ./data/VI-sequences_linear_hmm-v1.hmm \\\n",
    "        ./data/genome/Azolla_filiculoides.protein.highconfidence_v1.1.fasta"
   ]
  },
  {
   "cell_type": "code",
   "execution_count": 6,
   "metadata": {},
   "outputs": [
    {
     "name": "stdout",
     "output_type": "stream",
     "text": [
      "Azfi_s0076.g037908         9e-95  304.9 \n",
      "Azfi_s0021.g015882       4.5e-51  161.0 \n",
      "Azfi_s0041.g026722       4.3e-50  157.8 \n",
      "Azfi_s0004.g008455       1.9e-49  155.6 \n",
      "Azfi_s0035.g025508       4.2e-48  151.2 \n",
      "Azfi_s0010.g012145       1.7e-47  149.2 \n",
      "Azfi_s0008.g011612       6.6e-47  147.3 \n",
      "Azfi_s0129.g048859       8.1e-47  147.0 \n",
      "Azfi_s0005.g009119         5e-46  144.4 \n",
      "Azfi_s0005.g009154       5.5e-46  144.2 \n",
      "Azfi_s0812.g087843       9.4e-46  143.5 \n",
      "Azfi_s0061.g034930       3.6e-45  141.6 \n",
      "Azfi_s0445.g070637       5.6e-45  140.9 \n",
      "Azfi_s0001.g000839       1.9e-44  139.2 \n",
      "Azfi_s0006.g009830       5.4e-44  137.7 \n",
      "Azfi_s0014.g013584         1e-42  133.5 \n",
      "Azfi_s0003.g007581       4.1e-42  131.5 \n",
      "Azfi_s0010.g012085       4.9e-42  131.2 \n",
      "Azfi_s0003.g007699       6.2e-42  130.9 \n",
      "Azfi_s0390.g067689       9.9e-42  130.2 \n",
      "Azfi_s0016.g014344       1.8e-41  129.4 \n",
      "Azfi_s0113.g045874       3.4e-41  128.5 \n",
      "Azfi_s0007.g010866       4.8e-41  128.0 \n",
      "Azfi_s0217.g058506       4.8e-41  128.0 \n",
      "Azfi_s0938.g093183       4.7e-41  128.0 \n",
      "Azfi_s0041.g026717       1.5e-40  126.3 \n",
      "Azfi_s0243.g059882       2.8e-40  125.4 \n",
      "Azfi_s1083.g097159       2.9e-40  125.4 \n",
      "Azfi_s0018.g014830       3.8e-40  125.0 \n",
      "Azfi_s0629.g080127       8.5e-40  123.8 \n",
      "Azfi_s0173.g055749       1.1e-39  123.5 \n",
      "Azfi_s0163.g054240       2.2e-39  122.5 \n",
      "Azfi_s0125.g048539       2.6e-38  118.9 \n",
      "Azfi_s0130.g049059       3.2e-38  118.7 \n",
      "Azfi_s0103.g044681       4.1e-38  118.3 \n",
      "Azfi_s0001.g000218         3e-37  115.5 \n",
      "Azfi_s0014.g013539         4e-37  115.0 \n",
      "Azfi_s0105.g044929       1.4e-36  113.2 \n",
      "Azfi_s0179.g056264       3.5e-36  111.9 \n",
      "Azfi_s0193.g057153       4.4e-35  108.3 \n",
      "Azfi_s0460.g072042       4.4e-34  105.0 \n",
      "Azfi_s0179.g056258       1.9e-33  102.9 \n",
      "Azfi_s0138.g051134         2e-30   93.0 \n",
      "Azfi_s0008.g011623       7.8e-30   91.0 \n",
      "Azfi_s0001.g000538         1e-29   90.6 \n",
      "Azfi_s3508.g115947       8.1e-29   87.7 \n",
      "Azfi_s0130.g049054       7.6e-28   84.5 \n",
      "Azfi_s0145.g051658       8.8e-27   81.0 \n",
      "Azfi_s1025.g095454       2.3e-25   76.3 \n",
      "Azfi_s0164.g054291       6.7e-23   68.2 \n",
      "Azfi_s0009.g011773       2.9e-21   62.8 \n",
      "Azfi_s0007.g010874       4.5e-20   58.9 \n",
      "Azfi_s0009.g011981       3.7e-19   55.9 \n",
      "Azfi_s0254.g060469         2e-18   53.4 \n",
      "Azfi_s2035.g108729       1.4e-17   50.6 \n",
      "Azfi_s0003.g008076       1.7e-16   47.1 \n",
      "Azfi_s0100.g044336         9e-15   41.4 \n",
      "Azfi_s0002.g001484       6.9e-13   35.2 \n",
      "Azfi_s0022.g016182       3.4e-12   33.0 \n",
      "Azfi_s0059.g034687       5.3e-12   32.3 \n",
      "Azfi_s0059.g034689       4.3e-11   29.3 \n",
      "Azfi_s3609.g116385         4e-10   26.1 \n",
      "Azfi_s0078.g038139         1e-07   18.2 \n",
      "Azfi_s0113.g045914       9.9e-08   18.2 \n",
      "Azfi_s0380.g067373       2.1e-07   17.1 \n",
      "Azfi_s0185.g056637       7.9e-07   15.3 \n",
      "Azfi_s0088.g042510       9.4e-07   15.0 \n",
      "Azfi_s0343.g065739       2.6e-06   13.5 \n",
      "Azfi_s0008.g011626       3.7e-06   13.1 \n",
      "Azfi_s0345.g065826       4.6e-06   12.7 \n",
      "Azfi_s0292.g063413         5e-06   12.6 \n",
      "Azfi_s0003.g008081       6.3e-06   12.3 \n",
      "Azfi_s0028.g023921       1.1e-05   11.5 \n",
      "Azfi_s0063.g035389       3.1e-05   10.0 \n",
      "Azfi_s0007.g011036        0.0018    4.2 \n",
      "Azfi_s0076.g037915        0.0061    2.5 \n",
      "Azfi_s0010.g012066         0.058   -0.8 \n",
      "Azfi_s0730.g084085          0.13   -1.9 \n",
      "Azfi_s0158.g053847          0.25   -2.9 \n",
      "Azfi_s0354.g066687          0.99   -4.8 \n",
      "Azfi_s0092.g043090             1   -6.6 \n",
      "Azfi_s0064.g035559             1  -14.6 \n",
      "Azfi_s0032.g024768             1  -19.8 \n",
      "Azfi_s0230.g059134             1  -27.1 \n",
      "Azfi_s0019.g015298             1  -44.7 \n"
     ]
    }
   ],
   "source": [
    "#excuse this ugly visualisation, I don't have the patience\n",
    "grep -v '#'  data/VI-sequences_linear_hmm-v1_Azfihits.tab | cut -c 52-70,80-100 | sort -k3nr"
   ]
  },
  {
   "cell_type": "markdown",
   "metadata": {},
   "source": [
    "### intermediate conclusion\n",
    "That's quite some results and even some quite good hits if you ask me.\n",
    "Before I proceed to extract these sequences, inspect the alignment with VI and VII subfamilies and make a phylogeny,\n",
    "I first want to do a quick blast with the salvinia sequences (nucleotide) against the Azolla filiculoides genome.\n"
   ]
  },
  {
   "cell_type": "markdown",
   "metadata": {},
   "source": [
    "# Plan 2\n",
    "blast salvinia type VI sequences against Azolla filiculoides CDSs/genome."
   ]
  },
  {
   "cell_type": "code",
   "execution_count": 9,
   "metadata": {},
   "outputs": [
    {
     "name": "stdout",
     "output_type": "stream",
     "text": [
      "(blast) USAGE\n",
      "  makeblastdb [-h] [-help] [-in input_file] [-input_type type]\n",
      "    -dbtype molecule_type [-title database_title] [-parse_seqids]\n",
      "    [-hash_index] [-mask_data mask_data_files] [-mask_id mask_algo_ids]\n",
      "    [-mask_desc mask_algo_descriptions] [-gi_mask]\n",
      "    [-gi_mask_name gi_based_mask_names] [-out database_name]\n",
      "    [-max_file_sz number_of_bytes] [-logfile File_Name] [-taxid TaxID]\n",
      "    [-taxid_map TaxIDMapFile] [-version]\n",
      "\n",
      "DESCRIPTION\n",
      "   Application to create BLAST databases, version 2.5.0+\n",
      "\n",
      "Use '-help' to print detailed descriptions of command line arguments\n",
      "(blast) (base) "
     ]
    },
    {
     "ename": "",
     "evalue": "1",
     "output_type": "error",
     "traceback": []
    }
   ],
   "source": [
    "conda activate blast\n",
    "makeblastdb -h\n",
    "conda deactivate"
   ]
  },
  {
   "cell_type": "code",
   "execution_count": 11,
   "metadata": {},
   "outputs": [
    {
     "name": "stdout",
     "output_type": "stream",
     "text": [
      "(blast) (blast) (base) "
     ]
    },
    {
     "ename": "",
     "evalue": "1",
     "output_type": "error",
     "traceback": []
    }
   ],
   "source": [
    "conda activate blast\n",
    "makeblastdb -in ./data/genome/Azolla_filiculoides.protein.highconfidence_v1.1.fasta \\\n",
    "            -out data/genome/Azolla_filiculoides.protein.highconfidence_v1.1_blastdb \\\n",
    "            -title Azolla_filiculoides.protein.highconfidence_v1.1 \\\n",
    "            -logfile data/genome/Azolla_filiculoides.protein.highconfidence_v1.1_blastdb.log \\\n",
    "            -dbtype prot\n",
    "conda deactivate\n",
    "\n",
    "\n"
   ]
  },
  {
   "cell_type": "code",
   "execution_count": 12,
   "metadata": {},
   "outputs": [
    {
     "name": "stdout",
     "output_type": "stream",
     "text": [
      "\u001b[01;34mdata/genome\u001b[00m\n",
      "├── Azolla_filiculoides.protein.highconfidence_v1.1_blastdb.log\n",
      "├── Azolla_filiculoides.protein.highconfidence_v1.1_blastdb.perf\n",
      "├── Azolla_filiculoides.protein.highconfidence_v1.1_blastdb.phr\n",
      "├── Azolla_filiculoides.protein.highconfidence_v1.1_blastdb.pin\n",
      "├── Azolla_filiculoides.protein.highconfidence_v1.1_blastdb.psq\n",
      "└── Azolla_filiculoides.protein.highconfidence_v1.1.fasta\n",
      "\n",
      "0 directories, 6 files\n",
      "(base) "
     ]
    },
    {
     "ename": "",
     "evalue": "1",
     "output_type": "error",
     "traceback": []
    }
   ],
   "source": [
    "tree data/genome"
   ]
  },
  {
   "cell_type": "code",
   "execution_count": 13,
   "metadata": {
    "scrolled": true
   },
   "outputs": [
    {
     "name": "stdout",
     "output_type": "stream",
     "text": [
      "(blast) USAGE\n",
      "  blastp [-h] [-help] [-import_search_strategy filename]\n",
      "    [-export_search_strategy filename] [-task task_name] [-db database_name]\n",
      "    [-dbsize num_letters] [-gilist filename] [-seqidlist filename]\n",
      "    [-negative_gilist filename] [-entrez_query entrez_query]\n",
      "    [-db_soft_mask filtering_algorithm] [-db_hard_mask filtering_algorithm]\n",
      "    [-subject subject_input_file] [-subject_loc range] [-query input_file]\n",
      "    [-out output_file] [-evalue evalue] [-word_size int_value]\n",
      "    [-gapopen open_penalty] [-gapextend extend_penalty]\n",
      "    [-qcov_hsp_perc float_value] [-max_hsps int_value]\n",
      "    [-xdrop_ungap float_value] [-xdrop_gap float_value]\n",
      "    [-xdrop_gap_final float_value] [-searchsp int_value]\n",
      "    [-sum_stats bool_value] [-seg SEG_options] [-soft_masking soft_masking]\n",
      "    [-matrix matrix_name] [-threshold float_value] [-culling_limit int_value]\n",
      "    [-best_hit_overhang float_value] [-best_hit_score_edge float_value]\n",
      "    [-window_size int_value] [-lcase_masking] [-query_loc range]\n",
      "    [-parse_deflines] [-outfmt format] [-show_gis]\n",
      "    [-num_descriptions int_value] [-num_alignments int_value]\n",
      "    [-line_length line_length] [-html] [-max_target_seqs num_sequences]\n",
      "    [-num_threads int_value] [-ungapped] [-remote] [-comp_based_stats compo]\n",
      "    [-use_sw_tback] [-version]\n",
      "\n",
      "DESCRIPTION\n",
      "   Protein-Protein BLAST 2.5.0+\n",
      "\n",
      "Use '-help' to print detailed descriptions of command line arguments\n",
      "(blast) (base) "
     ]
    },
    {
     "ename": "",
     "evalue": "1",
     "output_type": "error",
     "traceback": []
    }
   ],
   "source": [
    "conda activate blast\n",
    "blastp -h\n",
    "conda deactivate"
   ]
  },
  {
   "cell_type": "code",
   "execution_count": 34,
   "metadata": {},
   "outputs": [
    {
     "name": "stdout",
     "output_type": "stream",
     "text": [
      "(blast) (blast) (base) "
     ]
    },
    {
     "ename": "",
     "evalue": "1",
     "output_type": "error",
     "traceback": []
    }
   ],
   "source": [
    "conda activate blast\n",
    "blastp -db ./data/genome/Azolla_filiculoides.protein.highconfidence_v1.1_blastdb \\\n",
    "       -query <(grep Sacu -A1 ./data/VI_sequences_linear.fasta) \\\n",
    "       -num_threads $(nproc) \\\n",
    "       -outfmt 6 \\\n",
    "       -out ./data/VI-sequences_linear_blasthits-v1.tab\n",
    "conda deactivate"
   ]
  },
  {
   "cell_type": "code",
   "execution_count": 38,
   "metadata": {},
   "outputs": [
    {
     "name": "stdout",
     "output_type": "stream",
     "text": [
      "Azfi_s0076.g037908\t78.378\t185\t1.54e-94\t271\n",
      "Azfi_s0004.g008455\t42.958\t142\t3.03e-35\t129\n",
      "Azfi_s0021.g015882\t43.704\t135\t3.26e-34\t126\n",
      "Azfi_s0014.g013584\t47.619\t126\t2.20e-32\t120\n",
      "Azfi_s0129.g048859\t46.774\t124\t1.50e-31\t118\n",
      "Azfi_s0035.g025508\t41.216\t148\t1.78e-31\t114\n",
      "Azfi_s0005.g009154\t42.568\t148\t4.68e-31\t117\n",
      "Azfi_s0041.g026722\t45.902\t122\t7.06e-31\t115\n",
      "Azfi_s0008.g011612\t43.548\t124\t1.36e-30\t114\n",
      "Azfi_s0010.g012145\t44.628\t121\t3.50e-30\t114\n",
      "Azfi_s0005.g009119\t46.721\t122\t1.09e-29\t113\n",
      "Azfi_s0001.g000839\t40.157\t127\t1.58e-29\t108\n",
      "Azfi_s0016.g014344\t38.776\t147\t9.18e-29\t110\n",
      "Azfi_s0006.g009830\t42.149\t121\t1.24e-28\t107\n",
      "Azfi_s0003.g007581\t47.500\t120\t3.25e-28\t105\n",
      "Azfi_s0445.g070637\t44.715\t123\t4.48e-28\t107\n",
      "Azfi_s0938.g093183\t42.308\t130\t6.23e-28\t108\n",
      "Azfi_s0010.g012085\t39.259\t135\t9.76e-28\t107\n",
      "Azfi_s0163.g054240\t38.849\t139\t3.03e-27\t105\n",
      "Azfi_s0113.g045874\t38.519\t135\t4.67e-27\t105\n",
      "(base) "
     ]
    },
    {
     "ename": "",
     "evalue": "1",
     "output_type": "error",
     "traceback": []
    }
   ],
   "source": [
    "cut -f 2-4,11- data/VI-sequences_linear_blasthits-v1.tab | head -n 20"
   ]
  },
  {
   "cell_type": "markdown",
   "metadata": {},
   "source": [
    "Some good blast hit's as well, let's put these next to the first 20 hmmscan hits I found before."
   ]
  },
  {
   "cell_type": "code",
   "execution_count": 40,
   "metadata": {},
   "outputs": [
    {
     "name": "stdout",
     "output_type": "stream",
     "text": [
      "(base) Azfi_s0076.g037908         9e-95  304.9 \n",
      "Azfi_s0021.g015882       4.5e-51  161.0 \n",
      "Azfi_s0041.g026722       4.3e-50  157.8 \n",
      "Azfi_s0004.g008455       1.9e-49  155.6 \n",
      "Azfi_s0035.g025508       4.2e-48  151.2 \n",
      "Azfi_s0010.g012145       1.7e-47  149.2 \n",
      "Azfi_s0008.g011612       6.6e-47  147.3 \n",
      "Azfi_s0129.g048859       8.1e-47  147.0 \n",
      "Azfi_s0005.g009119         5e-46  144.4 \n",
      "Azfi_s0005.g009154       5.5e-46  144.2 \n",
      "Azfi_s0812.g087843       9.4e-46  143.5 \n",
      "Azfi_s0061.g034930       3.6e-45  141.6 \n",
      "Azfi_s0445.g070637       5.6e-45  140.9 \n",
      "Azfi_s0001.g000839       1.9e-44  139.2 \n",
      "Azfi_s0006.g009830       5.4e-44  137.7 \n",
      "Azfi_s0014.g013584         1e-42  133.5 \n",
      "Azfi_s0003.g007581       4.1e-42  131.5 \n",
      "Azfi_s0010.g012085       4.9e-42  131.2 \n",
      "Azfi_s0003.g007699       6.2e-42  130.9 \n",
      "Azfi_s0390.g067689       9.9e-42  130.2 \n",
      "(base) "
     ]
    },
    {
     "ename": "",
     "evalue": "1",
     "output_type": "error",
     "traceback": []
    }
   ],
   "source": [
    "#excuse this ugly visualisation, I don't have the patience\n",
    "grep -v '#'  data/VI-sequences_linear_hmm-v1_Azfihits.tab | cut -c 52-70,80-100 | sort -k3nr | head -n 20"
   ]
  },
  {
   "cell_type": "markdown",
   "metadata": {},
   "source": [
    "It makes sense these aren't exactly the same, in the hmm I used more sequences while in blast I only used Salvinia sequences.\n",
    "I was planning to take the top 5 hmm hits to investigate further, but I'll take the top 5 blast hits too.\n",
    "This mostly overlaps anyway."
   ]
  },
  {
   "cell_type": "code",
   "execution_count": 65,
   "metadata": {},
   "outputs": [
    {
     "name": "stdout",
     "output_type": "stream",
     "text": [
      "(base) "
     ]
    },
    {
     "ename": "",
     "evalue": "1",
     "output_type": "error",
     "traceback": []
    }
   ],
   "source": [
    "sort <(grep -v '#'  data/VI-sequences_linear_hmm-v1_Azfihits.tab | cut -c 52-70,80-100 | sort -k3nr | head -n 5 | cut -c 1-18 ) \\\n",
    "     <(cut -f 2 data/VI-sequences_linear_blasthits-v1.tab | head -n 5) \\\n",
    "     | uniq > data/Azfi-mybs-subfamVI-suspects.list\n",
    "     \n"
   ]
  },
  {
   "cell_type": "code",
   "execution_count": 77,
   "metadata": {},
   "outputs": [
    {
     "name": "stdout",
     "output_type": "stream",
     "text": [
      "Azfi_s0004.g008455\n",
      "Azfi_s0014.g013584\n",
      "Azfi_s0021.g015882\n",
      "Azfi_s0035.g025508\n",
      "Azfi_s0041.g026722\n",
      "Azfi_s0076.g037908\n",
      "Azfi_s0129.g048859\n"
     ]
    }
   ],
   "source": [
    "cat data/Azfi-mybs-subfamVI-suspects.list"
   ]
  },
  {
   "cell_type": "code",
   "execution_count": 76,
   "metadata": {
    "scrolled": true
   },
   "outputs": [
    {
     "name": "stdout",
     "output_type": "stream",
     "text": [
      ">\u001b[01;31m\u001b[KAzfi\u001b[m\u001b[K_s0004.g008455 Myb transcription factor [0.077]\n",
      ">\u001b[01;31m\u001b[KAzfi\u001b[m\u001b[K_s0021.g015882 Myb transcription factor [0.077]\n"
     ]
    }
   ],
   "source": [
    "grep Azfi ./data/combi_sequences_linear.fasta"
   ]
  },
  {
   "cell_type": "markdown",
   "metadata": {},
   "source": [
    "Not unimportant, the two Azfi type VII sequences I identified in notebook 2 are also in these blast hits. Including our best hit, so it may be al type VII perhaps."
   ]
  },
  {
   "cell_type": "markdown",
   "metadata": {},
   "source": [
    "# Extract sequences and compare to VI and VII seqeunces"
   ]
  },
  {
   "cell_type": "markdown",
   "metadata": {},
   "source": [
    "First, let's linearise the annotation protein fasta.\n",
    "Then extract the Azfi sequences of interest and put these in a combi fasta with the previously examined VI and VII sequences.\n",
    "Finally, I'll make an alignment and log a snapshot here."
   ]
  },
  {
   "cell_type": "code",
   "execution_count": 66,
   "metadata": {},
   "outputs": [
    {
     "name": "stdout",
     "output_type": "stream",
     "text": [
      "(base) "
     ]
    },
    {
     "ename": "",
     "evalue": "1",
     "output_type": "error",
     "traceback": []
    }
   ],
   "source": [
    "cat data/genome/Azolla_filiculoides.protein.highconfidence_v1.1.fasta \\\n",
    "     | awk '/^>/ {printf(\"%s%s\\n\",(N>0?\"\\n\":\"\"),$0);N++;next;} {printf(\"%s\",$0);} END {printf(\"\\n\");}' \\\n",
    "     > data/genome/Azolla_filiculoides.protein.highconfidence_v1.1_linear.fasta"
   ]
  },
  {
   "cell_type": "code",
   "execution_count": 67,
   "metadata": {},
   "outputs": [
    {
     "name": "stdout",
     "output_type": "stream",
     "text": [
      "(base) "
     ]
    },
    {
     "ename": "",
     "evalue": "1",
     "output_type": "error",
     "traceback": []
    }
   ],
   "source": [
    "grep -A 1 --no-group-separator \\\n",
    "     -f ./data/Azfi-mybs-subfamVI-suspects.list \\\n",
    "     ./data/genome/Azolla_filiculoides.protein.highconfidence_v1.1_linear.fasta \\\n",
    "     > ./data/Azfi-mybs-subfamVI-suspects.fasta"
   ]
  },
  {
   "cell_type": "code",
   "execution_count": 68,
   "metadata": {},
   "outputs": [
    {
     "name": "stdout",
     "output_type": "stream",
     "text": [
      "(base) "
     ]
    },
    {
     "ename": "",
     "evalue": "1",
     "output_type": "error",
     "traceback": []
    }
   ],
   "source": [
    "cat data/VI_sequences_linear.fasta data/Azfi-mybs-subfamVI-suspects.fasta data/VII_sequences_linear.fasta > data/combi-VI-VII-Azfisuspects.fasta"
   ]
  }
 ],
 "metadata": {
  "kernelspec": {
   "display_name": "Bash",
   "language": "bash",
   "name": "bash"
  },
  "language_info": {
   "codemirror_mode": "shell",
   "file_extension": ".sh",
   "mimetype": "text/x-sh",
   "name": "bash"
  }
 },
 "nbformat": 4,
 "nbformat_minor": 4
}
