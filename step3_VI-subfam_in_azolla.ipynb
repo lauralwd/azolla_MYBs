{
 "cells": [
  {
   "cell_type": "markdown",
   "metadata": {},
   "source": [
    "# outline\n",
    "\n",
    "goal: In this notebook I will try to find R2R3 MYBs from the VI subfamily as described in R&J in the Azolla annotation and genome (if the former is unsuccessfull).\n",
    "\n",
    "I have two resources to search with, the Salivina sequences termed VI by R&J, and the whole VI subfamily I extracted earlier via the R&J paper.\n",
    "\n",
    "Alternativelly, I may use the pfam or superfamily hmm models to find these genes, but that won't be as specific as I would like it to be.\n",
    "\n",
    "My resource to search in, is the Azolla filiculoides genome and annotation v1.2 from fernbase.org"
   ]
  }
 ],
 "metadata": {
  "kernelspec": {
   "display_name": "Bash",
   "language": "bash",
   "name": "bash"
  },
  "language_info": {
   "codemirror_mode": "shell",
   "file_extension": ".sh",
   "mimetype": "text/x-sh",
   "name": "bash"
  }
 },
 "nbformat": 4,
 "nbformat_minor": 4
}
