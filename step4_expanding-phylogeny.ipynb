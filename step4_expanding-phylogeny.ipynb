{
 "cells": [
  {
   "cell_type": "markdown",
   "metadata": {},
   "source": [
    "# Aim\n",
    "\n",
    "In step four, I'd like to address expanding the phylogeny with more R2R3 MYB subfamiles to address some open questions: \n",
    "* Can I add a subfamily label to the other Azfi sequences I found before with a custom hmm.\n",
    "* Can I infer the phylogeny to more confidently/explicitly draw the Salvinales VII branch as a part of the remaining VII branch by including other subfamiles and an outgroup\n",
    "\n",
    "In a later notebook, I'll address adding extra data like: \n",
    "Next steps: \n",
    "\n",
    "* Can I add intron/exon structures as a second line of evidence supporting the different subfamilies\n",
    "* Finally, I'd like to log2 expressen/fold change to the Azfi sequences; to illustrate how these subfamilies change expression upon transistion to sexual reproduction at least in _Azolla_\n",
    "\n",
    "Since retrieving sequences from the different databases is quite a pain, \n",
    "I'll first retrieve only NCBI listed sequences (which I can retrieve in batch).\n",
    "Subsequently, I may reitterate in this notebook, expanding on that analysis with sequences from other genome databases."
   ]
  },
  {
   "cell_type": "markdown",
   "metadata": {},
   "source": [
    "Genes in new list files in the `data` directory were retrieved from NCBI. \n",
    "Acc. nr.s from the J&R study were mixed protein and gene id's, so batch retrieval wasn't possible.\n",
    "Fasta files with both acc nr's were created in the same directory."
   ]
  },
  {
   "cell_type": "markdown",
   "metadata": {},
   "source": [
    "# prepare data\n",
    "\n",
    "Combining and linearising fasta files."
   ]
  },
  {
   "cell_type": "code",
   "execution_count": 6,
   "metadata": {},
   "outputs": [],
   "source": [
    "for i in data/*fasta\n",
    "do  inseq=$(echo $i | cut -d '/' -f 2 | cut -d '.' -f 1)\n",
    "    cat data/$inseq.fasta \\\n",
    "     | awk '/^>/ {printf(\"%s%s\\n\",(N>0?\"\\n\":\"\"),$0);N++;next;} {printf(\"%s\",$0);} END {printf(\"\\n\");}' \\\n",
    "     > data/\"$inseq\"_linear.fasta\n",
    "done"
   ]
  },
  {
   "cell_type": "code",
   "execution_count": 3,
   "metadata": {},
   "outputs": [
    {
     "name": "stdout",
     "output_type": "stream",
     "text": [
      "data/ARP_sequences_linear.fasta\n",
      "data/Azfi-mybs-subfamVI-suspects_linear.fasta\n",
      "data/Azfi-v1-MYB-sequences_linear.fasta\n",
      "data/Azfi-v1-MYB-sequences_linear_linear.fasta\n",
      "data/CDC5-outgroup_sequences_linear.fasta\n",
      "data/combi_sequences_linear.fasta\n",
      "data/combi_sequences_linear_linear.fasta\n",
      "data/combi-VI-VII-Azfisuspects_linear.fasta\n",
      "data/III_sequences_linear.fasta\n",
      "data/II_sequences_linear.fasta\n",
      "data/I_sequences_linear.fasta\n",
      "data/IV_sequences_linear.fasta\n",
      "data/MYB33_ARATH_linear.fasta\n",
      "data/MYB33_ARATH_linear_linear.fasta\n",
      "data/R1R2R3_sequences_linear.fasta\n",
      "data/VIII_sequences_linear.fasta\n",
      "data/VII_sequences_linear.fasta\n",
      "data/VII_sequences_linear_linear.fasta\n",
      "data/VI_sequences_linear.fasta\n",
      "data/VI_sequences_linear_linear.fasta\n"
     ]
    }
   ],
   "source": [
    "ls data/*_linear.fasta"
   ]
  },
  {
   "cell_type": "code",
   "execution_count": 7,
   "metadata": {},
   "outputs": [],
   "source": [
    "cat data/CDC5-outgroup_sequences_linear.fasta \\\n",
    "    data/I_sequences_linear.fasta    \\\n",
    "    data/II_sequences_linear.fasta   \\\n",
    "    data/III_sequences_linear.fasta  \\\n",
    "    data/IV_sequences_linear.fasta   \\\n",
    "    data/V_sequences_linear.fasta    \\\n",
    "    data/VI_sequences_linear.fasta   \\\n",
    "    data/VII_sequences_linear.fasta  \\\n",
    "    data/VIII_sequences_linear.fasta \\\n",
    "    data/ARP_sequences_linear.fasta  \\\n",
    "    data/Azfi-mybs-subfamVI-suspects_linear.fasta \\\n",
    "    data/R1R2R3_sequences_linear.fasta \\\n",
    "    data/MYB33_ARATH_linear.fasta \\\n",
    "    > data/combi-I-to-VII-Azfi_sequences_linear.fasta\n",
    "    "
   ]
  },
  {
   "cell_type": "code",
   "execution_count": 16,
   "metadata": {},
   "outputs": [
    {
     "name": "stdout",
     "output_type": "stream",
     "text": [
      "(phylogenetics) (phylogenetics) aligning combi-I-to-VII-Azfi_sequences_linear\n",
      "(phylogenetics) "
     ]
    }
   ],
   "source": [
    "conda activate phylogenetics\n",
    "if    [ ! -d ./data/alignments_raw/ ]\n",
    "then  mkdir  ./data/alignments_raw\n",
    "fi\n",
    "for   i in data/combi*sequences_linear.fasta\n",
    "do    inseq=$(echo $i | cut -d '/' -f 2 | cut -d '.' -f 1)\n",
    "      if    [ ! -f \"./data/alignments_raw/$inseq\"_aligned-mafft-linsi.fasta ]\n",
    "      then  echo \"aligning $inseq\"\n",
    "            linsi --thread $(nproc) data/$inseq.fasta > ./data/alignments_raw/\"$inseq\"_aligned-mafft-linsi.fasta \\\n",
    "                                                      2> ./data/alignments_raw/\"$inseq\"_aligned-mafft-linsi.log\n",
    "      fi\n",
    "done\n",
    "conda deactivate"
   ]
  },
  {
   "cell_type": "code",
   "execution_count": 21,
   "metadata": {},
   "outputs": [
    {
     "name": "stdout",
     "output_type": "stream",
     "text": [
      "(jalview) (jalview) "
     ]
    }
   ],
   "source": [
    "conda activate jalview\n",
    "for   i in data/alignments_raw/*.fasta\n",
    "do    prefix=$(echo $i | sed 's/\\.fasta//')\n",
    "      if    [ ! -f $prefix.png ]\n",
    "      then  jalview -nodisplay \\\n",
    "                    -open $prefix.fasta \\\n",
    "                    -colour CLUSTAL \\\n",
    "                    -png  $prefix.png > /dev/null 2> /dev/null\n",
    "      fi\n",
    "done\n",
    "conda deactivate"
   ]
  },
  {
   "cell_type": "markdown",
   "metadata": {},
   "source": [
    "The alignment looks like this:\n",
    "![](./data/alignments_raw/combi-I-to-VII-Azfi_sequences_linear_aligned-mafft-linsi.png)"
   ]
  },
  {
   "cell_type": "markdown",
   "metadata": {},
   "source": [
    "It is even more gappy than the alignments we've seen before, but that stands to reason since a lot more of sequence diversity is covered in this MSA. \n",
    "After trimming this will look just fine I'm sure."
   ]
  },
  {
   "cell_type": "code",
   "execution_count": null,
   "metadata": {},
   "outputs": [],
   "source": [
    "conda activate phylogenetics\n",
    "if    [ ! -d data/alignments_trimmed ]\n",
    "then  mkdir  data/alignments_trimmed \n",
    "fi\n",
    "\n",
    "# define appendix only once here:\n",
    "trimappendix='trim-gt4'\n",
    "\n",
    "for a in \"data/alignments_raw/$inseq\"_aligned*.fasta\n",
    "do  appendix=$(echo $a | cut -d '/' -f 3- | sed \"s/$inseq\\_//\" | sed \"s/.fasta//\")\n",
    "    if    [ ! -f data/alignments_trimmed/\"$inseq\"_\"$appendix\"_\"$trimappendix\".fasta ]\n",
    "    then  echo \"trimming alignment $a\"\n",
    "          sed -i 's/ /_/g' $a\n",
    "          trimal -in $a   \\\n",
    "                 -out data/alignments_trimmed/\"$inseq\"_\"$appendix\"_\"$trimappendix\".fasta \\\n",
    "                 -gt .4 \\\n",
    "                 -htmlout data/alignments_trimmed/\"$inseq\"_\"$appendix\"_\"$trimappendix\".html\n",
    "    fi\n",
    "done\n",
    "conda deactivate"
   ]
  }
 ],
 "metadata": {
  "kernelspec": {
   "display_name": "Bash",
   "language": "bash",
   "name": "bash"
  },
  "language_info": {
   "codemirror_mode": "shell",
   "file_extension": ".sh",
   "mimetype": "text/x-sh",
   "name": "bash"
  }
 },
 "nbformat": 4,
 "nbformat_minor": 2
}
