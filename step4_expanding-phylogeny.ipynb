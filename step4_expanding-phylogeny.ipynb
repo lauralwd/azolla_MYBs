{
 "cells": [
  {
   "cell_type": "markdown",
   "metadata": {},
   "source": [
    "# Aim\n",
    "\n",
    "In step four, I'd like to address expanding the phylogeny with more R2R3 MYB subfamiles to address some open questions: \n",
    "* Can I add a subfamily label to the other Azfi sequences I found before with a custom hmm.\n",
    "* Can I infer the phylogeny to more confidently/explicitly draw the Salvinales VII branch as a part of the remaining VII branch by including other subfamiles and an outgroup\n",
    "\n",
    "In a later notebook, I'll address adding extra data like: \n",
    "Next steps: \n",
    "\n",
    "* Can I add intron/exon structures as a second line of evidence supporting the different subfamilies\n",
    "* Finally, I'd like to log2 expressen/fold change to the Azfi sequences; to illustrate how these subfamilies change expression upon transistion to sexual reproduction at least in _Azolla_\n",
    "\n",
    "Since retrieving sequences from the different databases is quite a pain, \n",
    "I'll first retrieve only NCBI listed sequences (which I can retrieve in batch).\n",
    "Subsequently, I may reitterate in this notebook, expanding on that analysis with sequences from other genome databases."
   ]
  },
  {
   "cell_type": "markdown",
   "metadata": {},
   "source": [
    "Genes in new list files in the `data` directory were retrieved from NCBI. \n",
    "Acc. nr.s from the J&R study were mixed protein and gene id's, so batch retrieval wasn't possible.\n",
    "Fasta files with both acc nr's were created in the same directory."
   ]
  },
  {
   "cell_type": "markdown",
   "metadata": {},
   "source": [
    "# prepare data\n",
    "\n",
    "Combining and linearising fasta files."
   ]
  },
  {
   "cell_type": "code",
   "execution_count": 6,
   "metadata": {},
   "outputs": [],
   "source": [
    "for i in data/*fasta\n",
    "do  inseq=$(echo $i | cut -d '/' -f 2 | cut -d '.' -f 1)\n",
    "    cat data/$inseq.fasta \\\n",
    "     | awk '/^>/ {printf(\"%s%s\\n\",(N>0?\"\\n\":\"\"),$0);N++;next;} {printf(\"%s\",$0);} END {printf(\"\\n\");}' \\\n",
    "     > data/\"$inseq\"_linear.fasta\n",
    "done"
   ]
  },
  {
   "cell_type": "code",
   "execution_count": 3,
   "metadata": {},
   "outputs": [
    {
     "name": "stdout",
     "output_type": "stream",
     "text": [
      "data/ARP_sequences_linear.fasta\n",
      "data/Azfi-mybs-subfamVI-suspects_linear.fasta\n",
      "data/Azfi-v1-MYB-sequences_linear.fasta\n",
      "data/Azfi-v1-MYB-sequences_linear_linear.fasta\n",
      "data/CDC5-outgroup_sequences_linear.fasta\n",
      "data/combi_sequences_linear.fasta\n",
      "data/combi_sequences_linear_linear.fasta\n",
      "data/combi-VI-VII-Azfisuspects_linear.fasta\n",
      "data/III_sequences_linear.fasta\n",
      "data/II_sequences_linear.fasta\n",
      "data/I_sequences_linear.fasta\n",
      "data/IV_sequences_linear.fasta\n",
      "data/MYB33_ARATH_linear.fasta\n",
      "data/MYB33_ARATH_linear_linear.fasta\n",
      "data/R1R2R3_sequences_linear.fasta\n",
      "data/VIII_sequences_linear.fasta\n",
      "data/VII_sequences_linear.fasta\n",
      "data/VII_sequences_linear_linear.fasta\n",
      "data/VI_sequences_linear.fasta\n",
      "data/VI_sequences_linear_linear.fasta\n"
     ]
    }
   ],
   "source": [
    "ls data/*_linear.fasta"
   ]
  },
  {
   "cell_type": "code",
   "execution_count": 7,
   "metadata": {},
   "outputs": [],
   "source": [
    "cat data/CDC5-outgroup_sequences_linear.fasta \\\n",
    "    data/I_sequences_linear.fasta    \\\n",
    "    data/II_sequences_linear.fasta   \\\n",
    "    data/III_sequences_linear.fasta  \\\n",
    "    data/IV_sequences_linear.fasta   \\\n",
    "    data/V_sequences_linear.fasta    \\\n",
    "    data/VI_sequences_linear.fasta   \\\n",
    "    data/VII_sequences_linear.fasta  \\\n",
    "    data/VIII_sequences_linear.fasta \\\n",
    "    data/ARP_sequences_linear.fasta  \\\n",
    "    data/Azfi-mybs-subfamVI-suspects_linear.fasta \\\n",
    "    data/R1R2R3_sequences_linear.fasta \\\n",
    "    data/MYB33_ARATH_linear.fasta \\\n",
    "    > data/combi-I-to-VII-Azfi_sequences_linear.fasta\n",
    "    "
   ]
  },
  {
   "cell_type": "code",
   "execution_count": 16,
   "metadata": {},
   "outputs": [
    {
     "name": "stdout",
     "output_type": "stream",
     "text": [
      "(phylogenetics) (phylogenetics) aligning combi-I-to-VII-Azfi_sequences_linear\n",
      "(phylogenetics) "
     ]
    }
   ],
   "source": [
    "conda activate phylogenetics\n",
    "if    [ ! -d ./data/alignments_raw/ ]\n",
    "then  mkdir  ./data/alignments_raw\n",
    "fi\n",
    "for   i in data/combi*sequences_linear.fasta\n",
    "do    inseq=$(echo $i | cut -d '/' -f 2 | cut -d '.' -f 1)\n",
    "      if    [ ! -f \"./data/alignments_raw/$inseq\"_aligned-mafft-linsi.fasta ]\n",
    "      then  echo \"aligning $inseq\"\n",
    "            linsi --thread $(nproc) data/$inseq.fasta > ./data/alignments_raw/\"$inseq\"_aligned-mafft-linsi.fasta \\\n",
    "                                                      2> ./data/alignments_raw/\"$inseq\"_aligned-mafft-linsi.log\n",
    "      fi\n",
    "done\n",
    "conda deactivate"
   ]
  },
  {
   "cell_type": "code",
   "execution_count": 21,
   "metadata": {},
   "outputs": [
    {
     "name": "stdout",
     "output_type": "stream",
     "text": [
      "(jalview) (jalview) "
     ]
    }
   ],
   "source": [
    "conda activate jalview\n",
    "for   i in data/alignments_raw/*.fasta\n",
    "do    prefix=$(echo $i | sed 's/\\.fasta//')\n",
    "      if    [ ! -f $prefix.png ]\n",
    "      then  jalview -nodisplay \\\n",
    "                    -open $prefix.fasta \\\n",
    "                    -colour CLUSTAL \\\n",
    "                    -png  $prefix.png > /dev/null 2> /dev/null\n",
    "      fi\n",
    "done\n",
    "conda deactivate"
   ]
  },
  {
   "cell_type": "markdown",
   "metadata": {},
   "source": [
    "The alignment looks like this:\n",
    "![](./data/alignments_raw/combi-I-to-VIII-Azfi_sequences_linear_aligned-mafft-linsi.png)"
   ]
  },
  {
   "cell_type": "markdown",
   "metadata": {},
   "source": [
    "It is even more gappy than the alignments we've seen before, but that stands to reason since a lot more of sequence diversity is covered in this MSA. \n",
    "After trimming this will look just fine I'm sure."
   ]
  },
  {
   "cell_type": "code",
   "execution_count": 29,
   "metadata": {},
   "outputs": [],
   "source": [
    "inseq=combi-I-to-VIII-Azfi_sequences_linear"
   ]
  },
  {
   "cell_type": "code",
   "execution_count": 30,
   "metadata": {},
   "outputs": [
    {
     "name": "stdout",
     "output_type": "stream",
     "text": [
      "(phylogenetics) (phylogenetics) (phylogenetics) (phylogenetics) (phylogenetics) (phylogenetics) trimming alignment data/alignments_raw/combi-I-to-VIII-Azfi_sequences_linear_aligned-mafft-linsi.fasta\n",
      "(phylogenetics) "
     ]
    }
   ],
   "source": [
    "conda activate phylogenetics\n",
    "if    [ ! -d data/alignments_trimmed ]\n",
    "then  mkdir  data/alignments_trimmed \n",
    "fi\n",
    "\n",
    "# define appendix only once here:\n",
    "trimappendix='trim-gt4'\n",
    "\n",
    "for a in \"data/alignments_raw/$inseq\"_aligned*.fasta\n",
    "do  appendix=$(echo $a | cut -d '/' -f 3- | sed \"s/$inseq\\_//\" | sed \"s/.fasta//\")\n",
    "    if    [ ! -f data/alignments_trimmed/\"$inseq\"_\"$appendix\"_\"$trimappendix\".fasta ]\n",
    "    then  echo \"trimming alignment $a\"\n",
    "          sed -i 's/ /_/g' $a\n",
    "          trimal -in $a   \\\n",
    "                 -out data/alignments_trimmed/\"$inseq\"_\"$appendix\"_\"$trimappendix\".fasta \\\n",
    "                 -gt .4 \\\n",
    "                 -htmlout data/alignments_trimmed/\"$inseq\"_\"$appendix\"_\"$trimappendix\".html\n",
    "    fi\n",
    "done\n",
    "conda deactivate"
   ]
  },
  {
   "cell_type": "code",
   "execution_count": 31,
   "metadata": {},
   "outputs": [
    {
     "name": "stdout",
     "output_type": "stream",
     "text": [
      "(jalview) (jalview) "
     ]
    }
   ],
   "source": [
    "conda activate jalview\n",
    "for   i in data/alignments_trimmed/*.fasta\n",
    "do    prefix=$(echo $i | sed 's/\\.fasta//')\n",
    "      if    [ ! -f $prefix.png ]\n",
    "      then  jalview -nodisplay \\\n",
    "                    -open $prefix.fasta \\\n",
    "                    -colour CLUSTAL \\\n",
    "                    -png  $prefix.png > /dev/null 2> /dev/null\n",
    "      fi\n",
    "done\n",
    "conda deactivate"
   ]
  },
  {
   "cell_type": "markdown",
   "metadata": {},
   "source": [
    "The alignment looks like this:\n",
    "![](./data/alignments_trimmed/combi-I-to-VIII-Azfi_sequences_linear_aligned-mafft-linsi_trim-gt4.png)"
   ]
  },
  {
   "cell_type": "markdown",
   "metadata": {},
   "source": [
    "I can certainly make a tree from this alignment, first let's try a quick one:\n",
    "\n",
    "# Tree inference"
   ]
  },
  {
   "cell_type": "code",
   "execution_count": 32,
   "metadata": {
    "scrolled": true
   },
   "outputs": [
    {
     "name": "stdout",
     "output_type": "stream",
     "text": [
      "(phylogenetics) making a tree of file data/alignments_trimmed/combi-I-to-VIII-Azfi_sequences_linear_aligned-mafft-linsi_trim-gt4.fasta\n",
      "The first lines of alignment data/alignments_trimmed/combi-I-to-VIII-Azfi_sequences_linear_aligned-mafft-linsi_trim-gt4.fasta look like this\n",
      ">CDC5_XM_024677933.1_XP_024533701.1_transcription_factor_MYB61-like_[Selaginella_moellendorffii]\n",
      "M--SRREQPDDHE------TSSSSIVRKGLWSPKEDELLLNFILQHGCGNWTTVPKLAGL\n",
      "QRSGKSCRLRWMNYLRPDLKRGKFSDEENQKLIELHGLVGNRWAYIASQLPGRTDNDVKN\n",
      "QWNSRIRNKAL-----------AHSPVSERSDPPPSPPT-PEIPDPAGEEFRDTHLLQSD\n",
      "PAEEPASSPAAKSSA---------------------------------------------\n",
      "--SASLQSDG--------------------------------------------------\n",
      "------------------------------SPMMDG------------------------\n",
      "----------------------------DL---------------------------GCV\n",
      "VWQF--\n",
      ">CDC5_XM_024686040.1_XP_024541808.1_cell_division_cycle_5-like_protein\n",
      "Making a directory aligned-mafft-linsi_trim-gt4 to store trees (name based on alignment filename)\n",
      "(phylogenetics) "
     ]
    }
   ],
   "source": [
    "conda activate phylogenetics\n",
    "for a in data/alignments_trimmed/\"$inseq\"_aligned*gt[46].fasta\n",
    "do  #iqpendix='iqtree-b100'\n",
    "    iqpendix='iqtree-bb2000-alrt2000'\n",
    "\n",
    "    echo \"making a tree of file $a\"\n",
    "    echo \"The first lines of alignment $a look like this\"\n",
    "    head $a\n",
    "\n",
    "    file_appendix=$(echo $a | cut -d '/' -f 3- | sed \"s/$inseq\\_//\" | sed \"s/.fasta//\")\n",
    "    \n",
    "    if   [ ! -d    analyses/\"$inseq\"_trees/\"$file_appendix\" ]\n",
    "    then echo \"Making a directory $file_appendix to store trees (name based on alignment filename)\"\n",
    "         mkdir -p  analyses/\"$inseq\"_trees/\"$file_appendix\" \n",
    "    fi\n",
    "\n",
    "    iqprefix=analyses/\"$inseq\"_trees/\"$file_appendix\"/\"$inseq\"_\"$file_appendix\"_\"$iqpendix\"\n",
    "    if   [ ! -f \"$iqprefix\".tree ]\n",
    "    then nice iqtree -s $a \\\n",
    "                     -m MFP \\\n",
    "                     -bb 2000 -alrt 2000 \\\n",
    "                     -nt AUTO \\\n",
    "                     -ntmax $(nproc)  \\\n",
    "                     -pre  \"$iqprefix\" \\\n",
    "                     2>   \"$iqprefix\".stderr \\\n",
    "                      >    \"$iqprefix\".stdout\n",
    "    cat \"$iqprefix\".log | mail -s \"IQtree_run $a\" laura\n",
    "    fi\n",
    "done\n",
    "conda deactivate"
   ]
  },
  {
   "cell_type": "markdown",
   "metadata": {},
   "source": [
    "This [initial tree](https://itol.embl.de/tree/1312115964244391596537363#) puts some sequences at odd places. \n",
    "I'm wondering if I have a too gappy alignment here, like I already suspected for earlier alignments.\n",
    "Alternativelly, I may try to align sequences with the einsi method in stead of the linsi method, since the big conserved domain is quite gappy and linsi may not align conserved sites outside of the main domain propperly."
   ]
  }
 ],
 "metadata": {
  "kernelspec": {
   "display_name": "Bash",
   "language": "bash",
   "name": "bash"
  },
  "language_info": {
   "codemirror_mode": "shell",
   "file_extension": ".sh",
   "mimetype": "text/x-sh",
   "name": "bash"
  }
 },
 "nbformat": 4,
 "nbformat_minor": 2
}
